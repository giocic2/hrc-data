{
 "cells": [
  {
   "cell_type": "code",
   "execution_count": 1,
   "metadata": {},
   "outputs": [],
   "source": [
    "import pandas as pd\n",
    "import soundfile as sf\n",
    "import easygui\n",
    "import csv\n",
    "import numpy as np\n",
    "import matplotlib.pyplot as plt\n",
    "from scipy import signal\n",
    "from scipy.fft import fftshift"
   ]
  },
  {
   "cell_type": "code",
   "execution_count": 39,
   "metadata": {},
   "outputs": [],
   "source": [
    "# assume we have columns 'time' and 'value'\n",
    "df = pd.read_csv('_music_ifi.csv')\n",
    "times = df.iloc[:,1].values\n",
    "data = df.iloc[:,0].values\n",
    "data = data / np.amax(data)\n",
    "sf.write(\"_music.wav\", data, 100_000)"
   ]
  },
  {
   "cell_type": "code",
   "execution_count": 40,
   "metadata": {},
   "outputs": [],
   "source": [
    "# assume we have columns 'time' and 'value'\n",
    "df = pd.read_csv('_ramp_ifi.csv')\n",
    "times = df.iloc[:,1].values\n",
    "data = df.iloc[:,0].values\n",
    "data = data / np.amax(data)\n",
    "sf.write(\"_ramp.wav\", data, 100_000)"
   ]
  },
  {
   "cell_type": "code",
   "execution_count": 41,
   "metadata": {},
   "outputs": [],
   "source": [
    "# assume we have columns 'time' and 'value'\n",
    "df = pd.read_csv('_alice_ifi.csv')\n",
    "times = df.iloc[:,1].values\n",
    "data = df.iloc[:,0].values\n",
    "data = data / np.amax(data)\n",
    "sf.write(\"_alice.wav\", data, 100_000)"
   ]
  },
  {
   "cell_type": "code",
   "execution_count": 5,
   "metadata": {},
   "outputs": [],
   "source": [
    "# assume we have columns 'time' and 'value'\n",
    "df = pd.read_csv('_background-noise_ifi.csv')\n",
    "times = df.iloc[:,1].values\n",
    "data = df.iloc[:,0].values\n",
    "data = data / 100\n",
    "sf.write(\"_background-noise.wav\", data, 100_000)"
   ]
  },
  {
   "cell_type": "code",
   "execution_count": 2,
   "metadata": {},
   "outputs": [],
   "source": [
    "# assume we have columns 'time' and 'value'\n",
    "df = pd.read_csv('_speech-background-noise_ifi.csv')\n",
    "times = df.iloc[:,1].values\n",
    "data = df.iloc[:,0].values\n",
    "data = data / 100\n",
    "sf.write(\"_speech-background-noise.wav\", data, 100_000)"
   ]
  },
  {
   "cell_type": "code",
   "execution_count": 3,
   "metadata": {},
   "outputs": [],
   "source": [
    "# assume we have columns 'time' and 'value'\n",
    "df = pd.read_csv('_speech_ifi.csv')\n",
    "times = df.iloc[:,1].values\n",
    "data = df.iloc[:,0].values\n",
    "data = data / 100\n",
    "sf.write(\"_speech.wav\", data, 100_000)"
   ]
  },
  {
   "cell_type": "code",
   "execution_count": 9,
   "metadata": {},
   "outputs": [],
   "source": [
    "# assume we have columns 'time' and 'value'\n",
    "df = pd.read_csv('_95hz_ifi.csv')\n",
    "times = df.iloc[:,1].values\n",
    "data = df.iloc[:,0].values\n",
    "data = data / 100\n",
    "sf.write(\"_95hz.wav\", data, 100_000)"
   ]
  }
 ],
 "metadata": {
  "interpreter": {
   "hash": "c221eec8b5a4a535f62171450f2e8ce70d2711d7745018961262fcbdc2d05dd1"
  },
  "kernelspec": {
   "display_name": "Python 3.9.12 ('.venv': venv)",
   "language": "python",
   "name": "python3"
  },
  "language_info": {
   "codemirror_mode": {
    "name": "ipython",
    "version": 3
   },
   "file_extension": ".py",
   "mimetype": "text/x-python",
   "name": "python",
   "nbconvert_exporter": "python",
   "pygments_lexer": "ipython3",
   "version": "3.9.7"
  },
  "orig_nbformat": 4
 },
 "nbformat": 4,
 "nbformat_minor": 2
}
